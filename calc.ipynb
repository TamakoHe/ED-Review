{
 "cells": [
  {
   "cell_type": "code",
   "execution_count": 2,
   "metadata": {},
   "outputs": [],
   "source": [
    "from math import pi,sqrt"
   ]
  },
  {
   "cell_type": "code",
   "execution_count": null,
   "metadata": {},
   "outputs": [],
   "source": []
  },
  {
   "cell_type": "code",
   "execution_count": null,
   "metadata": {},
   "outputs": [],
   "source": []
  },
  {
   "cell_type": "code",
   "execution_count": 6,
   "metadata": {},
   "outputs": [
    {
     "name": "stdout",
     "output_type": "stream",
     "text": [
      "0.6801747615878315\n"
     ]
    }
   ],
   "source": [
    "t1=(4*pi)/3\n",
    "r1=t1*2*((sqrt(3)/4)**3)\n",
    "print(r1)"
   ]
  },
  {
   "cell_type": "code",
   "execution_count": 7,
   "metadata": {},
   "outputs": [
    {
     "name": "stdout",
     "output_type": "stream",
     "text": [
      "0.7404804896930611\n"
     ]
    }
   ],
   "source": [
    "r2=4*t1*(sqrt(2)/4)**3\n",
    "print(r2)"
   ]
  },
  {
   "cell_type": "code",
   "execution_count": 1,
   "metadata": {},
   "outputs": [
    {
     "name": "stdout",
     "output_type": "stream",
     "text": [
      "4.370133333333333e-15\n"
     ]
    }
   ],
   "source": [
    "q=1.6e-19\n",
    "A=1e-4\n",
    "D_p=11.66\n",
    "D_n=18.13\n",
    "L_p=1.08e-2\n",
    "L_n=1.35e-3\n",
    "p_n=2.25e5\n",
    "n_p=2.25e3\n",
    "I_0=q*A*((D_p/L_p)*p_n+(D_n/L_n)*n_p)\n",
    "print(I_0)"
   ]
  },
  {
   "cell_type": "code",
   "execution_count": 14,
   "metadata": {},
   "outputs": [
    {
     "data": {
      "text/plain": [
       "0.4661437045774687"
      ]
     },
     "execution_count": 14,
     "metadata": {},
     "output_type": "execute_result"
    }
   ],
   "source": [
    "k=1.38e-23\n",
    "T=300\n",
    "from math import log,e\n",
    "(k*T*log(1e18/1.5e10,e))/1.6e-19"
   ]
  },
  {
   "cell_type": "code",
   "execution_count": 9,
   "metadata": {},
   "outputs": [
    {
     "data": {
      "text/plain": [
       "0.025875000000000002"
      ]
     },
     "execution_count": 9,
     "metadata": {},
     "output_type": "execute_result"
    }
   ],
   "source": [
    "k*T/1.6e-19"
   ]
  },
  {
   "cell_type": "code",
   "execution_count": 13,
   "metadata": {},
   "outputs": [
    {
     "data": {
      "text/plain": [
       "20.317800728838247"
      ]
     },
     "execution_count": 13,
     "metadata": {},
     "output_type": "execute_result"
    }
   ],
   "source": [
    "log(10e18/1.5e10,e)"
   ]
  },
  {
   "cell_type": "code",
   "execution_count": 2,
   "metadata": {},
   "outputs": [
    {
     "name": "stdout",
     "output_type": "stream",
     "text": [
      "0.02211538796259055 0.041742430504416006 0.12732200375003505\n"
     ]
    }
   ],
   "source": [
    "from math import asin,cos\n",
    "def fact(n):\n",
    "    angle=asin(1/n)\n",
    "    return 0.5*(1-cos(angle))\n",
    "print(fact(3.4),fact(2.5),fact(1.5))"
   ]
  },
  {
   "cell_type": "markdown",
   "metadata": {},
   "source": []
  }
 ],
 "metadata": {
  "kernelspec": {
   "display_name": "base",
   "language": "python",
   "name": "python3"
  },
  "language_info": {
   "codemirror_mode": {
    "name": "ipython",
    "version": 3
   },
   "file_extension": ".py",
   "mimetype": "text/x-python",
   "name": "python",
   "nbconvert_exporter": "python",
   "pygments_lexer": "ipython3",
   "version": "3.12.7"
  }
 },
 "nbformat": 4,
 "nbformat_minor": 2
}
