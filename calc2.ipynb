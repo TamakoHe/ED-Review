{
 "cells": [
  {
   "cell_type": "code",
   "execution_count": 2,
   "metadata": {},
   "outputs": [],
   "source": [
    "import numpy as np\n",
    "from math import *"
   ]
  },
  {
   "cell_type": "code",
   "execution_count": 3,
   "metadata": {},
   "outputs": [],
   "source": [
    "def eff_des(fac):\n",
    "    m0=9.1e-31\n",
    "    m=fac*m0\n",
    "    k=1.381e-23\n",
    "    h=6.626e-34\n",
    "    T=300\n",
    "    return 2*(((2*pi*m*T*k)/h**2)**1.50)"
   ]
  },
  {
   "cell_type": "code",
   "execution_count": 5,
   "metadata": {},
   "outputs": [
    {
     "name": "stdout",
     "output_type": "stream",
     "text": [
      "2.8132972729283205e+25\n",
      "1.1649488783671297e+25\n"
     ]
    }
   ],
   "source": [
    "print(eff_des(1.08))\n",
    "print(eff_des(0.6))"
   ]
  },
  {
   "cell_type": "code",
   "execution_count": 8,
   "metadata": {},
   "outputs": [
    {
     "name": "stdout",
     "output_type": "stream",
     "text": [
      "1.0791095023964346e+16\n"
     ]
    }
   ],
   "source": [
    "print(sqrt(eff_des(1.08)*eff_des(0.6)*exp((-1.1*1.6e-19)/(300*1.381e-23))))"
   ]
  }
 ],
 "metadata": {
  "kernelspec": {
   "display_name": "base",
   "language": "python",
   "name": "python3"
  },
  "language_info": {
   "codemirror_mode": {
    "name": "ipython",
    "version": 3
   },
   "file_extension": ".py",
   "mimetype": "text/x-python",
   "name": "python",
   "nbconvert_exporter": "python",
   "pygments_lexer": "ipython3",
   "version": "3.12.7"
  }
 },
 "nbformat": 4,
 "nbformat_minor": 2
}
