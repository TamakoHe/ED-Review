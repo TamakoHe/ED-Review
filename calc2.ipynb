{
 "cells": [
  {
   "cell_type": "code",
   "execution_count": 3,
   "metadata": {},
   "outputs": [],
   "source": [
    "import numpy as np\n",
    "from math import *"
   ]
  },
  {
   "cell_type": "code",
   "execution_count": 3,
   "metadata": {},
   "outputs": [],
   "source": [
    "def eff_des(fac):\n",
    "    m0=9.1e-31\n",
    "    m=fac*m0\n",
    "    k=1.381e-23\n",
    "    h=6.626e-34\n",
    "    T=300\n",
    "    return 2*(((2*pi*m*T*k)/h**2)**1.50)"
   ]
  },
  {
   "cell_type": "code",
   "execution_count": 5,
   "metadata": {},
   "outputs": [
    {
     "name": "stdout",
     "output_type": "stream",
     "text": [
      "2.8132972729283205e+25\n",
      "1.1649488783671297e+25\n"
     ]
    }
   ],
   "source": [
    "print(eff_des(1.08))\n",
    "print(eff_des(0.6))"
   ]
  },
  {
   "cell_type": "code",
   "execution_count": 8,
   "metadata": {},
   "outputs": [
    {
     "name": "stdout",
     "output_type": "stream",
     "text": [
      "1.0791095023964346e+16\n"
     ]
    }
   ],
   "source": [
    "print(sqrt(eff_des(1.08)*eff_des(0.6)*exp((-1.1*1.6e-19)/(300*1.381e-23))))"
   ]
  },
  {
   "cell_type": "code",
   "execution_count": 20,
   "metadata": {},
   "outputs": [
    {
     "name": "stdout",
     "output_type": "stream",
     "text": [
      "2.1447891732667626e-06\n",
      "3.397685819036455e-11\n",
      "4.951535625212295e-12\n"
     ]
    }
   ],
   "source": [
    "k=1.381e-23\n",
    "q=1.6e-19\n",
    "NA=1e21\n",
    "ni=1e10\n",
    "NB=1e23\n",
    "ep0=8.85e-12\n",
    "Vr=2\n",
    "vbi=(k*300/q)*log((NA*NB)/ni**2)\n",
    "W=sqrt(((2*12*ep0*(vbi+Vr))/q)*(1/NA+1/NB))\n",
    "print(W)\n",
    "A=0.1e-6\n",
    "Q=A*sqrt((2*q*ep0*12*(vbi+Vr)*NA*NB)/(NA+NB))\n",
    "print(Q)\n",
    "# xp=sqrt((2*ep0*12*(vbi+Vr)*NB)/(q*NA*(NA+NB)))\n",
    "# print(xp)\n",
    "# E0=-q*NA*xp/(ep0*12)\n",
    "# print(E0)\n",
    "C=A*sqrt((q*ep0*12*NA*NB)/(2*(NA+NB)*(vbi+Vr)))\n",
    "print(C)"
   ]
  },
  {
   "cell_type": "code",
   "execution_count": 13,
   "metadata": {},
   "outputs": [
    {
     "name": "stdout",
     "output_type": "stream",
     "text": [
      "1.3851247589160777e-06\n",
      "2.1942570438274498e-11\n"
     ]
    }
   ],
   "source": [
    "k = 1.381e-23  # J/K\n",
    "q = 1.6e-19  # C\n",
    "NA = 1e21  # m^-3\n",
    "ni = 1e10  # m^-3\n",
    "NB = 1e23  # m^-3\n",
    "ep0 = 8.85e-12  # F/m\n",
    "\n",
    "# 计算内建电压 vbi\n",
    "vbi = (k * 300 / q) * log((NA * NB) / ni**2)\n",
    "\n",
    "# 计算耗尽区宽度 W\n",
    "W = sqrt(((2 * 12 * ep0 * vbi) / q) * (1 / NA + 1 / NB))\n",
    "print(W)\n",
    "\n",
    "# 计算总电荷 Q\n",
    "A = 0.1e-6  # m^2\n",
    "Q = A * sqrt((2 * q * ep0 * 12 * vbi * NA * NB) / (NA + NB))\n",
    "print(Q)\n"
   ]
  },
  {
   "cell_type": "code",
   "execution_count": null,
   "metadata": {},
   "outputs": [],
   "source": []
  },
  {
   "cell_type": "code",
   "execution_count": 1,
   "metadata": {},
   "outputs": [
    {
     "data": {
      "text/plain": [
       "(0.00012390000000000003,\n",
       " 4.5,\n",
       " 0.0025089750000000005,\n",
       " 0.0011151000000000004,\n",
       " -5.575500000000002,\n",
       " 17.044875000000005)"
      ]
     },
     "execution_count": 1,
     "metadata": {},
     "output_type": "execute_result"
    }
   ],
   "source": [
    "# Constants\n",
    "epsilon_0 = 8.85e-12  # Vacuum permittivity (F/m)\n",
    "epsilon_r = 4  # Relative permittivity for SiO2\n",
    "t_ox = 100e-9  # Oxide thickness (m)\n",
    "mu_e = 0.14  # Electron mobility (m^2/V·s)\n",
    "mu_n = mu_e / 2  # Channel mobility (half)\n",
    "W = 200e-6  # Gate width (m)\n",
    "L = 20e-6  # Channel length (m)\n",
    "V_th = 1.5  # Threshold voltage (V)\n",
    "V_GS = 6  # Gate-source voltage (V)\n",
    "R_D = 5000  # Load resistance (ohms)\n",
    "\n",
    "# (b) Calculate K value\n",
    "C_ox = (epsilon_0 * epsilon_r) / t_ox  # Oxide capacitance (F/m^2)\n",
    "K = (mu_n * C_ox * W) / (2 * L)\n",
    "\n",
    "# (c) Saturation voltage\n",
    "V_DS_sat = V_GS - V_th\n",
    "\n",
    "# (d) Calculate I_DS\n",
    "I_DS = K * (V_GS - V_th)**2\n",
    "\n",
    "# (e) Transconductance g_m\n",
    "g_m = 2 * K * (V_GS - V_th)\n",
    "\n",
    "# (f) Small signal gain A_v\n",
    "A_v = -g_m * R_D\n",
    "\n",
    "# (g) Drain voltage V_DD\n",
    "V_DD = I_DS * R_D + V_DS_sat\n",
    "\n",
    "# Results\n",
    "K, V_DS_sat, I_DS, g_m, A_v, V_DD\n"
   ]
  },
  {
   "cell_type": "code",
   "execution_count": 2,
   "metadata": {},
   "outputs": [
    {
     "data": {
      "text/plain": [
       "dict_keys(['Wien displacement law constant', 'atomic unit of 1st hyperpolarizablity', 'atomic unit of 2nd hyperpolarizablity', 'atomic unit of electric dipole moment', 'atomic unit of electric polarizablity', 'atomic unit of electric quadrupole moment', 'atomic unit of magn. dipole moment', 'atomic unit of magn. flux density', 'deuteron magn. moment', 'deuteron magn. moment to Bohr magneton ratio', 'deuteron magn. moment to nuclear magneton ratio', 'deuteron-electron magn. moment ratio', 'deuteron-proton magn. moment ratio', 'deuteron-neutron magn. moment ratio', 'electron gyromagn. ratio', 'electron gyromagn. ratio over 2 pi', 'electron magn. moment', 'electron magn. moment to Bohr magneton ratio', 'electron magn. moment to nuclear magneton ratio', 'electron magn. moment anomaly', 'electron to shielded proton magn. moment ratio', 'electron to shielded helion magn. moment ratio', 'electron-deuteron magn. moment ratio', 'electron-muon magn. moment ratio', 'electron-neutron magn. moment ratio', 'electron-proton magn. moment ratio', 'magn. constant', 'magn. flux quantum', 'muon magn. moment', 'muon magn. moment to Bohr magneton ratio', 'muon magn. moment to nuclear magneton ratio', 'muon-proton magn. moment ratio', 'neutron gyromagn. ratio', 'neutron gyromagn. ratio over 2 pi', 'neutron magn. moment', 'neutron magn. moment to Bohr magneton ratio', 'neutron magn. moment to nuclear magneton ratio', 'neutron to shielded proton magn. moment ratio', 'neutron-electron magn. moment ratio', 'neutron-proton magn. moment ratio', 'proton gyromagn. ratio', 'proton gyromagn. ratio over 2 pi', 'proton magn. moment', 'proton magn. moment to Bohr magneton ratio', 'proton magn. moment to nuclear magneton ratio', 'proton magn. shielding correction', 'proton-neutron magn. moment ratio', 'shielded helion gyromagn. ratio', 'shielded helion gyromagn. ratio over 2 pi', 'shielded helion magn. moment', 'shielded helion magn. moment to Bohr magneton ratio', 'shielded helion magn. moment to nuclear magneton ratio', 'shielded helion to proton magn. moment ratio', 'shielded helion to shielded proton magn. moment ratio', 'shielded proton magn. moment', 'shielded proton magn. moment to Bohr magneton ratio', 'shielded proton magn. moment to nuclear magneton ratio', '{220} lattice spacing of silicon', 'lattice spacing of silicon', 'alpha particle-electron mass ratio', 'alpha particle mass', 'alpha particle mass energy equivalent', 'alpha particle mass energy equivalent in MeV', 'alpha particle mass in u', 'alpha particle molar mass', 'alpha particle-proton mass ratio', 'Angstrom star', 'atomic mass constant', 'atomic mass constant energy equivalent', 'atomic mass constant energy equivalent in MeV', 'atomic mass unit-electron volt relationship', 'atomic mass unit-hartree relationship', 'atomic mass unit-hertz relationship', 'atomic mass unit-inverse meter relationship', 'atomic mass unit-joule relationship', 'atomic mass unit-kelvin relationship', 'atomic mass unit-kilogram relationship', 'atomic unit of 1st hyperpolarizability', 'atomic unit of 2nd hyperpolarizability', 'atomic unit of action', 'atomic unit of charge', 'atomic unit of charge density', 'atomic unit of current', 'atomic unit of electric dipole mom.', 'atomic unit of electric field', 'atomic unit of electric field gradient', 'atomic unit of electric polarizability', 'atomic unit of electric potential', 'atomic unit of electric quadrupole mom.', 'atomic unit of energy', 'atomic unit of force', 'atomic unit of length', 'atomic unit of mag. dipole mom.', 'atomic unit of mag. flux density', 'atomic unit of magnetizability', 'atomic unit of mass', 'atomic unit of momentum', 'atomic unit of permittivity', 'atomic unit of time', 'atomic unit of velocity', 'Avogadro constant', 'Bohr magneton', 'Bohr magneton in eV/T', 'Bohr magneton in Hz/T', 'Bohr magneton in inverse meters per tesla', 'Bohr magneton in K/T', 'Bohr radius', 'Boltzmann constant', 'Boltzmann constant in eV/K', 'Boltzmann constant in Hz/K', 'Boltzmann constant in inverse meters per kelvin', 'characteristic impedance of vacuum', 'classical electron radius', 'Compton wavelength', 'Compton wavelength over 2 pi', 'conductance quantum', 'conventional value of Josephson constant', 'conventional value of von Klitzing constant', 'Cu x unit', 'deuteron-electron mag. mom. ratio', 'deuteron-electron mass ratio', 'deuteron g factor', 'deuteron mag. mom.', 'deuteron mag. mom. to Bohr magneton ratio', 'deuteron mag. mom. to nuclear magneton ratio', 'deuteron mass', 'deuteron mass energy equivalent', 'deuteron mass energy equivalent in MeV', 'deuteron mass in u', 'deuteron molar mass', 'deuteron-neutron mag. mom. ratio', 'deuteron-proton mag. mom. ratio', 'deuteron-proton mass ratio', 'deuteron rms charge radius', 'electric constant', 'electron charge to mass quotient', 'electron-deuteron mag. mom. ratio', 'electron-deuteron mass ratio', 'electron g factor', 'electron gyromag. ratio', 'electron gyromag. ratio over 2 pi', 'electron mag. mom.', 'electron mag. mom. anomaly', 'electron mag. mom. to Bohr magneton ratio', 'electron mag. mom. to nuclear magneton ratio', 'electron mass', 'electron mass energy equivalent', 'electron mass energy equivalent in MeV', 'electron mass in u', 'electron molar mass', 'electron-muon mag. mom. ratio', 'electron-muon mass ratio', 'electron-neutron mag. mom. ratio', 'electron-neutron mass ratio', 'electron-proton mag. mom. ratio', 'electron-proton mass ratio', 'electron-tau mass ratio', 'electron to alpha particle mass ratio', 'electron to shielded helion mag. mom. ratio', 'electron to shielded proton mag. mom. ratio', 'electron volt', 'electron volt-atomic mass unit relationship', 'electron volt-hartree relationship', 'electron volt-hertz relationship', 'electron volt-inverse meter relationship', 'electron volt-joule relationship', 'electron volt-kelvin relationship', 'electron volt-kilogram relationship', 'elementary charge', 'elementary charge over h', 'Faraday constant', 'Faraday constant for conventional electric current', 'Fermi coupling constant', 'fine-structure constant', 'first radiation constant', 'first radiation constant for spectral radiance', 'hartree-atomic mass unit relationship', 'hartree-electron volt relationship', 'Hartree energy', 'Hartree energy in eV', 'hartree-hertz relationship', 'hartree-inverse meter relationship', 'hartree-joule relationship', 'hartree-kelvin relationship', 'hartree-kilogram relationship', 'helion-electron mass ratio', 'helion mass', 'helion mass energy equivalent', 'helion mass energy equivalent in MeV', 'helion mass in u', 'helion molar mass', 'helion-proton mass ratio', 'hertz-atomic mass unit relationship', 'hertz-electron volt relationship', 'hertz-hartree relationship', 'hertz-inverse meter relationship', 'hertz-joule relationship', 'hertz-kelvin relationship', 'hertz-kilogram relationship', 'inverse fine-structure constant', 'inverse meter-atomic mass unit relationship', 'inverse meter-electron volt relationship', 'inverse meter-hartree relationship', 'inverse meter-hertz relationship', 'inverse meter-joule relationship', 'inverse meter-kelvin relationship', 'inverse meter-kilogram relationship', 'inverse of conductance quantum', 'Josephson constant', 'joule-atomic mass unit relationship', 'joule-electron volt relationship', 'joule-hartree relationship', 'joule-hertz relationship', 'joule-inverse meter relationship', 'joule-kelvin relationship', 'joule-kilogram relationship', 'kelvin-atomic mass unit relationship', 'kelvin-electron volt relationship', 'kelvin-hartree relationship', 'kelvin-hertz relationship', 'kelvin-inverse meter relationship', 'kelvin-joule relationship', 'kelvin-kilogram relationship', 'kilogram-atomic mass unit relationship', 'kilogram-electron volt relationship', 'kilogram-hartree relationship', 'kilogram-hertz relationship', 'kilogram-inverse meter relationship', 'kilogram-joule relationship', 'kilogram-kelvin relationship', 'lattice parameter of silicon', 'Loschmidt constant (273.15 K, 101.325 kPa)', 'mag. constant', 'mag. flux quantum', 'molar gas constant', 'molar mass constant', 'molar mass of carbon-12', 'molar Planck constant', 'molar Planck constant times c', 'molar volume of ideal gas (273.15 K, 100 kPa)', 'molar volume of ideal gas (273.15 K, 101.325 kPa)', 'molar volume of silicon', 'Mo x unit', 'muon Compton wavelength', 'muon Compton wavelength over 2 pi', 'muon-electron mass ratio', 'muon g factor', 'muon mag. mom.', 'muon mag. mom. anomaly', 'muon mag. mom. to Bohr magneton ratio', 'muon mag. mom. to nuclear magneton ratio', 'muon mass', 'muon mass energy equivalent', 'muon mass energy equivalent in MeV', 'muon mass in u', 'muon molar mass', 'muon-neutron mass ratio', 'muon-proton mag. mom. ratio', 'muon-proton mass ratio', 'muon-tau mass ratio', 'natural unit of action', 'natural unit of action in eV s', 'natural unit of energy', 'natural unit of energy in MeV', 'natural unit of length', 'natural unit of mass', 'natural unit of momentum', 'natural unit of momentum in MeV/c', 'natural unit of time', 'natural unit of velocity', 'neutron Compton wavelength', 'neutron Compton wavelength over 2 pi', 'neutron-electron mag. mom. ratio', 'neutron-electron mass ratio', 'neutron g factor', 'neutron gyromag. ratio', 'neutron gyromag. ratio over 2 pi', 'neutron mag. mom.', 'neutron mag. mom. to Bohr magneton ratio', 'neutron mag. mom. to nuclear magneton ratio', 'neutron mass', 'neutron mass energy equivalent', 'neutron mass energy equivalent in MeV', 'neutron mass in u', 'neutron molar mass', 'neutron-muon mass ratio', 'neutron-proton mag. mom. ratio', 'neutron-proton mass ratio', 'neutron-tau mass ratio', 'neutron to shielded proton mag. mom. ratio', 'Newtonian constant of gravitation', 'Newtonian constant of gravitation over h-bar c', 'nuclear magneton', 'nuclear magneton in eV/T', 'nuclear magneton in inverse meters per tesla', 'nuclear magneton in K/T', 'nuclear magneton in MHz/T', 'Planck constant', 'Planck constant in eV s', 'Planck constant over 2 pi', 'Planck constant over 2 pi in eV s', 'Planck constant over 2 pi times c in MeV fm', 'Planck length', 'Planck mass', 'Planck mass energy equivalent in GeV', 'Planck temperature', 'Planck time', 'proton charge to mass quotient', 'proton Compton wavelength', 'proton Compton wavelength over 2 pi', 'proton-electron mass ratio', 'proton g factor', 'proton gyromag. ratio', 'proton gyromag. ratio over 2 pi', 'proton mag. mom.', 'proton mag. mom. to Bohr magneton ratio', 'proton mag. mom. to nuclear magneton ratio', 'proton mag. shielding correction', 'proton mass', 'proton mass energy equivalent', 'proton mass energy equivalent in MeV', 'proton mass in u', 'proton molar mass', 'proton-muon mass ratio', 'proton-neutron mag. mom. ratio', 'proton-neutron mass ratio', 'proton rms charge radius', 'proton-tau mass ratio', 'quantum of circulation', 'quantum of circulation times 2', 'Rydberg constant', 'Rydberg constant times c in Hz', 'Rydberg constant times hc in eV', 'Rydberg constant times hc in J', 'Sackur-Tetrode constant (1 K, 100 kPa)', 'Sackur-Tetrode constant (1 K, 101.325 kPa)', 'second radiation constant', 'shielded helion gyromag. ratio', 'shielded helion gyromag. ratio over 2 pi', 'shielded helion mag. mom.', 'shielded helion mag. mom. to Bohr magneton ratio', 'shielded helion mag. mom. to nuclear magneton ratio', 'shielded helion to proton mag. mom. ratio', 'shielded helion to shielded proton mag. mom. ratio', 'shielded proton gyromag. ratio', 'shielded proton gyromag. ratio over 2 pi', 'shielded proton mag. mom.', 'shielded proton mag. mom. to Bohr magneton ratio', 'shielded proton mag. mom. to nuclear magneton ratio', 'speed of light in vacuum', 'standard acceleration of gravity', 'standard atmosphere', 'Stefan-Boltzmann constant', 'tau Compton wavelength', 'tau Compton wavelength over 2 pi', 'tau-electron mass ratio', 'tau mass', 'tau mass energy equivalent', 'tau mass energy equivalent in MeV', 'tau mass in u', 'tau molar mass', 'tau-muon mass ratio', 'tau-neutron mass ratio', 'tau-proton mass ratio', 'Thomson cross section', 'triton-electron mag. mom. ratio', 'triton-electron mass ratio', 'triton g factor', 'triton mag. mom.', 'triton mag. mom. to Bohr magneton ratio', 'triton mag. mom. to nuclear magneton ratio', 'triton mass', 'triton mass energy equivalent', 'triton mass energy equivalent in MeV', 'triton mass in u', 'triton molar mass', 'triton-neutron mag. mom. ratio', 'triton-proton mag. mom. ratio', 'triton-proton mass ratio', 'unified atomic mass unit', 'von Klitzing constant', 'weak mixing angle', 'Wien frequency displacement law constant', 'Wien wavelength displacement law constant', 'atomic unit of mom.um', 'electron-helion mass ratio', 'electron-triton mass ratio', 'helion g factor', 'helion mag. mom.', 'helion mag. mom. to Bohr magneton ratio', 'helion mag. mom. to nuclear magneton ratio', 'Loschmidt constant (273.15 K, 100 kPa)', 'natural unit of mom.um', 'natural unit of mom.um in MeV/c', 'neutron-proton mass difference', 'neutron-proton mass difference energy equivalent', 'neutron-proton mass difference energy equivalent in MeV', 'neutron-proton mass difference in u', 'standard-state pressure', 'alpha particle relative atomic mass', 'Bohr magneton in inverse meter per tesla', 'Boltzmann constant in inverse meter per kelvin', 'conventional value of ampere-90', 'conventional value of coulomb-90', 'conventional value of farad-90', 'conventional value of henry-90', 'conventional value of ohm-90', 'conventional value of volt-90', 'conventional value of watt-90', 'deuteron relative atomic mass', 'electron gyromag. ratio in MHz/T', 'electron relative atomic mass', 'elementary charge over h-bar', 'helion relative atomic mass', 'helion shielding shift', 'hyperfine transition frequency of Cs-133', 'lattice spacing of ideal Si (220)', 'luminous efficacy', 'neutron gyromag. ratio in MHz/T', 'neutron relative atomic mass', 'nuclear magneton in inverse meter per tesla', 'Planck constant in eV/Hz', 'proton gyromag. ratio in MHz/T', 'proton relative atomic mass', 'reduced Compton wavelength', 'reduced muon Compton wavelength', 'reduced neutron Compton wavelength', 'reduced Planck constant', 'reduced Planck constant in eV s', 'reduced Planck constant times c in MeV fm', 'reduced proton Compton wavelength', 'reduced tau Compton wavelength', 'shielded helion gyromag. ratio in MHz/T', 'shielded proton gyromag. ratio in MHz/T', 'shielding difference of d and p in HD', 'shielding difference of t and p in HT', 'tau energy equivalent', 'triton relative atomic mass', 'triton to proton mag. mom. ratio', 'vacuum electric permittivity', 'vacuum mag. permeability', 'W to Z mass ratio'])"
      ]
     },
     "execution_count": 2,
     "metadata": {},
     "output_type": "execute_result"
    }
   ],
   "source": [
    "# Define new V_GS values due to input signal variation\n"
   ]
  }
 ],
 "metadata": {
  "kernelspec": {
   "display_name": "base",
   "language": "python",
   "name": "python3"
  },
  "language_info": {
   "codemirror_mode": {
    "name": "ipython",
    "version": 3
   },
   "file_extension": ".py",
   "mimetype": "text/x-python",
   "name": "python",
   "nbconvert_exporter": "python",
   "pygments_lexer": "ipython3",
   "version": "3.12.7"
  }
 },
 "nbformat": 4,
 "nbformat_minor": 2
}
