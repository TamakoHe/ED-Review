{
 "cells": [
  {
   "cell_type": "code",
   "execution_count": 3,
   "metadata": {},
   "outputs": [],
   "source": [
    "import numpy as np\n",
    "from math import *"
   ]
  },
  {
   "cell_type": "code",
   "execution_count": 3,
   "metadata": {},
   "outputs": [],
   "source": [
    "def eff_des(fac):\n",
    "    m0=9.1e-31\n",
    "    m=fac*m0\n",
    "    k=1.381e-23\n",
    "    h=6.626e-34\n",
    "    T=300\n",
    "    return 2*(((2*pi*m*T*k)/h**2)**1.50)"
   ]
  },
  {
   "cell_type": "code",
   "execution_count": 5,
   "metadata": {},
   "outputs": [
    {
     "name": "stdout",
     "output_type": "stream",
     "text": [
      "2.8132972729283205e+25\n",
      "1.1649488783671297e+25\n"
     ]
    }
   ],
   "source": [
    "print(eff_des(1.08))\n",
    "print(eff_des(0.6))"
   ]
  },
  {
   "cell_type": "code",
   "execution_count": 8,
   "metadata": {},
   "outputs": [
    {
     "name": "stdout",
     "output_type": "stream",
     "text": [
      "1.0791095023964346e+16\n"
     ]
    }
   ],
   "source": [
    "print(sqrt(eff_des(1.08)*eff_des(0.6)*exp((-1.1*1.6e-19)/(300*1.381e-23))))"
   ]
  },
  {
   "cell_type": "code",
   "execution_count": 20,
   "metadata": {},
   "outputs": [
    {
     "name": "stdout",
     "output_type": "stream",
     "text": [
      "2.1447891732667626e-06\n",
      "3.397685819036455e-11\n",
      "4.951535625212295e-12\n"
     ]
    }
   ],
   "source": [
    "k=1.381e-23\n",
    "q=1.6e-19\n",
    "NA=1e21\n",
    "ni=1e10\n",
    "NB=1e23\n",
    "ep0=8.85e-12\n",
    "Vr=2\n",
    "vbi=(k*300/q)*log((NA*NB)/ni**2)\n",
    "W=sqrt(((2*12*ep0*(vbi+Vr))/q)*(1/NA+1/NB))\n",
    "print(W)\n",
    "A=0.1e-6\n",
    "Q=A*sqrt((2*q*ep0*12*(vbi+Vr)*NA*NB)/(NA+NB))\n",
    "print(Q)\n",
    "# xp=sqrt((2*ep0*12*(vbi+Vr)*NB)/(q*NA*(NA+NB)))\n",
    "# print(xp)\n",
    "# E0=-q*NA*xp/(ep0*12)\n",
    "# print(E0)\n",
    "C=A*sqrt((q*ep0*12*NA*NB)/(2*(NA+NB)*(vbi+Vr)))\n",
    "print(C)"
   ]
  },
  {
   "cell_type": "code",
   "execution_count": 13,
   "metadata": {},
   "outputs": [
    {
     "name": "stdout",
     "output_type": "stream",
     "text": [
      "1.3851247589160777e-06\n",
      "2.1942570438274498e-11\n"
     ]
    }
   ],
   "source": [
    "k = 1.381e-23  # J/K\n",
    "q = 1.6e-19  # C\n",
    "NA = 1e21  # m^-3\n",
    "ni = 1e10  # m^-3\n",
    "NB = 1e23  # m^-3\n",
    "ep0 = 8.85e-12  # F/m\n",
    "\n",
    "# 计算内建电压 vbi\n",
    "vbi = (k * 300 / q) * log((NA * NB) / ni**2)\n",
    "\n",
    "# 计算耗尽区宽度 W\n",
    "W = sqrt(((2 * 12 * ep0 * vbi) / q) * (1 / NA + 1 / NB))\n",
    "print(W)\n",
    "\n",
    "# 计算总电荷 Q\n",
    "A = 0.1e-6  # m^2\n",
    "Q = A * sqrt((2 * q * ep0 * 12 * vbi * NA * NB) / (NA + NB))\n",
    "print(Q)\n"
   ]
  }
 ],
 "metadata": {
  "kernelspec": {
   "display_name": "base",
   "language": "python",
   "name": "python3"
  },
  "language_info": {
   "codemirror_mode": {
    "name": "ipython",
    "version": 3
   },
   "file_extension": ".py",
   "mimetype": "text/x-python",
   "name": "python",
   "nbconvert_exporter": "python",
   "pygments_lexer": "ipython3",
   "version": "3.12.7"
  }
 },
 "nbformat": 4,
 "nbformat_minor": 2
}
